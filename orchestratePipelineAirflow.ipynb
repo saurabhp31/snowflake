{
 "cells": [
  {
   "cell_type": "code",
   "execution_count": null,
   "id": "8f46b21c-ca9c-4ab2-93bc-584b7a180ef0",
   "metadata": {},
   "outputs": [],
   "source": [
    "import json\n",
    "import airflow\n",
    "import pathlib\n",
    "from airflow import DAG\n",
    "import requests.exceptions as requests_exceptions\n",
    "from airflow import PythonOperator\n",
    "from airflow import PythonOperator\n",
    "from airflow import EmailOperator\n"
   ]
  },
  {
   "cell_type": "code",
   "execution_count": null,
   "id": "6be25019-7c22-4ee4-89e8-e611120b673f",
   "metadata": {},
   "outputs": [],
   "source": [
    "dag = DAG(                                                    \n",
    "   dag_id=\"loading_data\",                          \n",
    "   start_date=airflow.utils.dates.days_ago(14),                \n",
    "   schedule_interval=None                                    \n",
    ")"
   ]
  },
  {
   "cell_type": "code",
   "execution_count": null,
   "id": "2e05c07b-fbf5-4971-8b16-9a6df2962920",
   "metadata": {},
   "outputs": [],
   "source": [
    "generate_data = PythonOperator(\n",
    "    task_id = 'get_data',\n",
    "    python_callable = gd.main,\n",
    "    dag=dag\n",
    ")"
   ]
  },
  {
   "cell_type": "code",
   "execution_count": null,
   "id": "b03b6625-081b-43b8-95f3-6fadb671872f",
   "metadata": {},
   "outputs": [],
   "source": [
    "push_data = PythonOperator(\n",
    "    task_id = '_push_data',\n",
    "    python_callable = gd.main,\n",
    "    dag=dag\n",
    ")"
   ]
  },
  {
   "cell_type": "code",
   "execution_count": null,
   "id": "bf6534c2-9829-4519-aea1-8e9d5d8d81c3",
   "metadata": {},
   "outputs": [],
   "source": [
    "notify= EmailOperator(  \n",
    "    task_id='_notify',        \n",
    "    to='samikshav@maveric-systems.com',        \n",
    "    subject='Alert Mail',        \n",
    "    html_content=\"\"\" Data successfully loaded in S3 \"\"\",        \n",
    "    dag=dag )"
   ]
  },
  {
   "cell_type": "code",
   "execution_count": null,
   "id": "b438fc04-5bdb-4bb0-92b3-600070b4dc0c",
   "metadata": {},
   "outputs": [],
   "source": [
    "generate_data >> push_data >> notify"
   ]
  }
 ],
 "metadata": {
  "kernelspec": {
   "display_name": "Python 3 (ipykernel)",
   "language": "python",
   "name": "python3"
  },
  "language_info": {
   "codemirror_mode": {
    "name": "ipython",
    "version": 3
   },
   "file_extension": ".py",
   "mimetype": "text/x-python",
   "name": "python",
   "nbconvert_exporter": "python",
   "pygments_lexer": "ipython3",
   "version": "3.11.7"
  }
 },
 "nbformat": 4,
 "nbformat_minor": 5
}
