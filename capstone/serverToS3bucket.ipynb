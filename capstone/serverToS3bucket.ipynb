{
 "cells": [
  {
   "cell_type": "code",
   "execution_count": 1,
   "id": "47878bc9-5d3f-462a-8761-57b63e082fb0",
   "metadata": {},
   "outputs": [],
   "source": [
    "#upload transactions.csv file form local to S3 bucket\n",
    "import logging\n",
    "import boto3\n",
    "from botocore.exceptions import ClientError\n",
    "import os"
   ]
  },
  {
   "cell_type": "code",
   "execution_count": 3,
   "id": "c2a93ba1-367f-4569-ac58-3bd103ccc914",
   "metadata": {},
   "outputs": [],
   "source": [
    "\n",
    "def upload_file_to_s3(local_file_path, bucket_name, s3_file_key):\n",
    "    \"\"\"\n",
    "    Uploads a file to an S3 bucket.\n",
    "    :param local_file_path: Path to the local file\n",
    "    :param bucket_name: Name of the S3 bucket\n",
    "    :param s3_file_key: S3 object key (path within the bucket)\n",
    "    \"\"\"\n",
    "    # Create an S3 client\n",
    "    s3_client = boto3.client('s3',\n",
    "        aws_access_key_id='AKIAXYKJVFDHMJ3Q****',      \n",
    "        aws_secret_access_key='CvQYwnDlFSCnhqZ3agxiwJKxD8W/APuwYfKd****' \n",
    "    )\n",
    "\n",
    "    try:\n",
    "        # Upload file to S3 bucket\n",
    "        s3_client.upload_file(local_file_path, bucket_name, s3_file_key)\n",
    "        print(f\"File '{local_file_path}' uploaded to bucket '{bucket_name}' as '{s3_file_key}'.\")\n",
    "    except FileNotFoundError:\n",
    "        print(f\"The file '{local_file_path}' was not found.\")\n",
    "    except NoCredentialsError:\n",
    "        print(\"Credentials not available.\")\n",
    "    except PartialCredentialsError:\n",
    "        print(\"Incomplete credentials provided.\")\n",
    "    except Exception as e:\n",
    "        print(f\"An error occurred: {e}\")\n",
    "\n",
    "#CORP #2gv9"
   ]
  },
  {
   "cell_type": "code",
   "execution_count": 5,
   "id": "0a43ea28-4cb2-418a-89ac-b522d0b204ee",
   "metadata": {},
   "outputs": [
    {
     "name": "stdout",
     "output_type": "stream",
     "text": [
      "File 'transaction_data.csv' uploaded to bucket 'saurabh-p31-snowflake' as 'capstone/transactions.csv'.\n"
     ]
    }
   ],
   "source": [
    "local_file_path = 'transaction_data.csv'  \n",
    "bucket_name = 'saurabh-p31-snowflake'             \n",
    "s3_file_key = 'capstone/transactions.csv'            \n",
    "\n",
    "upload_file_to_s3(local_file_path, bucket_name, s3_file_key)"
   ]
  },
  {
   "cell_type": "code",
   "execution_count": 7,
   "id": "1899585e-42b7-4280-b5f6-1e788a3d1577",
   "metadata": {},
   "outputs": [
    {
     "name": "stdout",
     "output_type": "stream",
     "text": [
      "File 'account_data.csv' uploaded to bucket 'saurabh-p31-snowflake' as 'capstone/account.csv'.\n"
     ]
    }
   ],
   "source": [
    "local_file_path = 'account_data.csv'  \n",
    "bucket_name = 'saurabh-p31-snowflake'             \n",
    "s3_file_key = 'capstone/account.csv'            \n",
    "\n",
    "upload_file_to_s3(local_file_path, bucket_name, s3_file_key)"
   ]
  },
  {
   "cell_type": "code",
   "execution_count": 8,
   "id": "29a8c859-94f2-4105-9e6f-de570dac619c",
   "metadata": {},
   "outputs": [
    {
     "name": "stdout",
     "output_type": "stream",
     "text": [
      "File 'credit_data.csv' uploaded to bucket 'saurabh-p31-snowflake' as 'capstone/credit.csv'.\n"
     ]
    }
   ],
   "source": [
    "local_file_path = 'credit_data.csv'  \n",
    "bucket_name = 'saurabh-p31-snowflake'             \n",
    "s3_file_key = 'capstone/credit.csv'            \n",
    "\n",
    "upload_file_to_s3(local_file_path, bucket_name, s3_file_key)"
   ]
  },
  {
   "cell_type": "code",
   "execution_count": 9,
   "id": "32866de8-3fdd-4ca9-9797-fc69bc47f6b1",
   "metadata": {},
   "outputs": [
    {
     "name": "stdout",
     "output_type": "stream",
     "text": [
      "File 'customer_data.csv' uploaded to bucket 'saurabh-p31-snowflake' as 'capstone/customer.csv'.\n"
     ]
    }
   ],
   "source": [
    "local_file_path = 'customer_data.csv'  \n",
    "bucket_name = 'saurabh-p31-snowflake'             \n",
    "s3_file_key = 'capstone/customer.csv'            \n",
    "\n",
    "upload_file_to_s3(local_file_path, bucket_name, s3_file_key)"
   ]
  },
  {
   "cell_type": "code",
   "execution_count": 10,
   "id": "6180c863-e468-4054-8caa-579a58c576f5",
   "metadata": {},
   "outputs": [
    {
     "name": "stdout",
     "output_type": "stream",
     "text": [
      "File 'watchlist_data.csv' uploaded to bucket 'saurabh-p31-snowflake' as 'capstone/watchlist.csv'.\n"
     ]
    }
   ],
   "source": [
    "local_file_path = 'watchlist_data.csv'  \n",
    "bucket_name = 'saurabh-p31-snowflake'             \n",
    "s3_file_key = 'capstone/watchlist.csv'            \n",
    "\n",
    "upload_file_to_s3(local_file_path, bucket_name, s3_file_key)"
   ]
  },
  {
   "cell_type": "code",
   "execution_count": null,
   "id": "9ed50208-592b-41bc-be34-a1f07406a458",
   "metadata": {
    "editable": true,
    "slideshow": {
     "slide_type": ""
    },
    "tags": []
   },
   "outputs": [],
   "source": []
  },
  {
   "cell_type": "code",
   "execution_count": null,
   "id": "121ec1e1-30c1-40f1-926f-39f425bb3207",
   "metadata": {},
   "outputs": [],
   "source": []
  },
  {
   "cell_type": "code",
   "execution_count": null,
   "id": "045ec9c6-098d-4982-addc-07efc6d830d2",
   "metadata": {},
   "outputs": [],
   "source": []
  },
  {
   "cell_type": "code",
   "execution_count": null,
   "id": "8db12286-6991-4454-bec6-1afdeebd95ce",
   "metadata": {},
   "outputs": [],
   "source": []
  },
  {
   "cell_type": "code",
   "execution_count": null,
   "id": "ceb8986f-9a50-430c-91a4-b06fe3e08095",
   "metadata": {},
   "outputs": [],
   "source": []
  }
 ],
 "metadata": {
  "kernelspec": {
   "display_name": "Python 3 (ipykernel)",
   "language": "python",
   "name": "python3"
  },
  "language_info": {
   "codemirror_mode": {
    "name": "ipython",
    "version": 3
   },
   "file_extension": ".py",
   "mimetype": "text/x-python",
   "name": "python",
   "nbconvert_exporter": "python",
   "pygments_lexer": "ipython3",
   "version": "3.11.7"
  }
 },
 "nbformat": 4,
 "nbformat_minor": 5
}
